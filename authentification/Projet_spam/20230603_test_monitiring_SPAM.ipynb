{
 "cells": [
  {
   "cell_type": "code",
   "execution_count": 2,
   "metadata": {},
   "outputs": [],
   "source": [
    "import pandas as pd\n",
    "import numpy as np\n",
    "\n",
    "from sklearn import datasets, ensemble, model_selection"
   ]
  },
  {
   "cell_type": "code",
   "execution_count": null,
   "metadata": {},
   "outputs": [],
   "source": [
    "from evidently import ColumnMapping\n",
    "from evidently.report import Report\n",
    "from evidently.test_suite import TestSuite\n",
    "\n",
    "from evidently.metric_preset import DataDriftPreset\n",
    "from evidently.metric_preset import DataQualityPreset\n",
    "from evidently.metric_preset import RegressionPreset\n",
    "from evidently.metric_preset import ClassificationPreset\n",
    "from evidently.metric_preset import TargetDriftPreset\n",
    "from evidently.metric_preset import TextOverviewPreset\n",
    "\n",
    "from evidently.metrics import *\n",
    "\n",
    "from evidently.test_preset import NoTargetPerformanceTestPreset\n",
    "from evidently.test_preset import DataStabilityTestPreset\n",
    "from evidently.test_preset import DataQualityTestPreset\n",
    "from evidently.test_preset import DataDriftTestPreset\n",
    "\n",
    "from evidently.tests import *\n",
    "\n",
    "from evidently.tests.base_test import generate_column_tests\n",
    "from evidently.metrics.base_metric import generate_column_metrics\n",
    "\n",
    "from sklearn.preprocessing import LabelEncoder "
   ]
  },
  {
   "cell_type": "code",
   "execution_count": null,
   "metadata": {},
   "outputs": [],
   "source": [
    "import nltk\n",
    "nltk.download('words')\n",
    "nltk.download('wordnet')\n",
    "nltk.download('omw-1.4')"
   ]
  },
  {
   "cell_type": "code",
   "execution_count": null,
   "metadata": {},
   "outputs": [],
   "source": [
    "reviews = pd.read_csv('spam.csv',encoding = \"latin-1\")"
   ]
  },
  {
   "cell_type": "code",
   "execution_count": null,
   "metadata": {},
   "outputs": [],
   "source": [
    "reviews.shape"
   ]
  },
  {
   "cell_type": "code",
   "execution_count": null,
   "metadata": {},
   "outputs": [],
   "source": [
    "reviews = reviews.drop(['Unnamed: 2','Unnamed: 3','Unnamed: 4'], axis=1)\n",
    "reviews = reviews.rename(columns={'v1': 'type', 'v2' : 'text'})\n",
    "\n",
    "#Suppression of duplicate lines\n",
    "reviews = reviews.drop_duplicates()"
   ]
  },
  {
   "cell_type": "code",
   "execution_count": null,
   "metadata": {},
   "outputs": [],
   "source": [
    "reviews.shape"
   ]
  },
  {
   "cell_type": "code",
   "execution_count": null,
   "metadata": {},
   "outputs": [],
   "source": [
    "reviews.head()"
   ]
  },
  {
   "cell_type": "code",
   "execution_count": null,
   "metadata": {},
   "outputs": [],
   "source": [
    "lb_encod = LabelEncoder()\n",
    "reviews['type'] = lb_encod.fit_transform(reviews['type'])"
   ]
  },
  {
   "cell_type": "code",
   "execution_count": null,
   "metadata": {},
   "outputs": [],
   "source": [
    "reviews.head()"
   ]
  },
  {
   "cell_type": "code",
   "execution_count": 5,
   "metadata": {},
   "outputs": [],
   "source": [
    "reviews2 = pd.read_csv(r'C:\\Users\\cesar\\Documents\\Dos\\Entrega final de la formacion IA\\E1\\E1_Projet-Spam\\derniere_prédiction_de_messages.csv',encoding = \"latin-1\")\n"
   ]
  },
  {
   "cell_type": "code",
   "execution_count": 6,
   "metadata": {},
   "outputs": [
    {
     "data": {
      "text/html": [
       "<div>\n",
       "<style scoped>\n",
       "    .dataframe tbody tr th:only-of-type {\n",
       "        vertical-align: middle;\n",
       "    }\n",
       "\n",
       "    .dataframe tbody tr th {\n",
       "        vertical-align: top;\n",
       "    }\n",
       "\n",
       "    .dataframe thead th {\n",
       "        text-align: right;\n",
       "    }\n",
       "</style>\n",
       "<table border=\"1\" class=\"dataframe\">\n",
       "  <thead>\n",
       "    <tr style=\"text-align: right;\">\n",
       "      <th></th>\n",
       "      <th>text</th>\n",
       "      <th>type</th>\n",
       "      <th>prediction</th>\n",
       "      <th>probabilite_spam</th>\n",
       "    </tr>\n",
       "  </thead>\n",
       "  <tbody>\n",
       "    <tr>\n",
       "      <th>0</th>\n",
       "      <td>he IRS is trying to reach you regarding a tax ...</td>\n",
       "      <td>?</td>\n",
       "      <td>ham</td>\n",
       "      <td>18.3</td>\n",
       "    </tr>\n",
       "    <tr>\n",
       "      <th>1</th>\n",
       "      <td>Hurry â your IRS tax refund is ready to be a...</td>\n",
       "      <td>?</td>\n",
       "      <td>spam</td>\n",
       "      <td>85.5</td>\n",
       "    </tr>\n",
       "    <tr>\n",
       "      <th>2</th>\n",
       "      <td>You have an overdue tax refund of $1,000 waiti...</td>\n",
       "      <td>?</td>\n",
       "      <td>spam</td>\n",
       "      <td>62.7</td>\n",
       "    </tr>\n",
       "    <tr>\n",
       "      <th>3</th>\n",
       "      <td>Our records indicate that you have overpaid fo...</td>\n",
       "      <td>?</td>\n",
       "      <td>spam</td>\n",
       "      <td>71.3</td>\n",
       "    </tr>\n",
       "    <tr>\n",
       "      <th>4</th>\n",
       "      <td>We have a package for you. Click this link to ...</td>\n",
       "      <td>?</td>\n",
       "      <td>spam</td>\n",
       "      <td>88.0</td>\n",
       "    </tr>\n",
       "    <tr>\n",
       "      <th>5</th>\n",
       "      <td>Myke, we have recently discovered an awaiting ...</td>\n",
       "      <td>?</td>\n",
       "      <td>spam</td>\n",
       "      <td>91.1</td>\n",
       "    </tr>\n",
       "    <tr>\n",
       "      <th>6</th>\n",
       "      <td>Your new billing statement for April is now av...</td>\n",
       "      <td>?</td>\n",
       "      <td>spam</td>\n",
       "      <td>73.1</td>\n",
       "    </tr>\n",
       "    <tr>\n",
       "      <th>7</th>\n",
       "      <td>Greetings Clark, your AT&amp;T billing invoice is ...</td>\n",
       "      <td>?</td>\n",
       "      <td>ham</td>\n",
       "      <td>26.7</td>\n",
       "    </tr>\n",
       "    <tr>\n",
       "      <th>8</th>\n",
       "      <td>Congratulations! Youâve won a free iPhone 12...</td>\n",
       "      <td>?</td>\n",
       "      <td>spam</td>\n",
       "      <td>99.8</td>\n",
       "    </tr>\n",
       "    <tr>\n",
       "      <th>9</th>\n",
       "      <td>You have been chosen to receive a one-time $50...</td>\n",
       "      <td>?</td>\n",
       "      <td>spam</td>\n",
       "      <td>98.8</td>\n",
       "    </tr>\n",
       "    <tr>\n",
       "      <th>10</th>\n",
       "      <td>Sara, did you recently apply for a loan? Pleas...</td>\n",
       "      <td>?</td>\n",
       "      <td>spam</td>\n",
       "      <td>66.2</td>\n",
       "    </tr>\n",
       "    <tr>\n",
       "      <th>11</th>\n",
       "      <td>Your Wells Fargo account has been temporarily ...</td>\n",
       "      <td>?</td>\n",
       "      <td>ham</td>\n",
       "      <td>36.6</td>\n",
       "    </tr>\n",
       "    <tr>\n",
       "      <th>12</th>\n",
       "      <td>Your Apple ID has been identified as a possibl...</td>\n",
       "      <td>?</td>\n",
       "      <td>ham</td>\n",
       "      <td>37.7</td>\n",
       "    </tr>\n",
       "    <tr>\n",
       "      <th>13</th>\n",
       "      <td>Confirm your identity with Apple by clicking t...</td>\n",
       "      <td>?</td>\n",
       "      <td>spam</td>\n",
       "      <td>61.4</td>\n",
       "    </tr>\n",
       "    <tr>\n",
       "      <th>14</th>\n",
       "      <td>This is an emergency. Your brother needs help....</td>\n",
       "      <td>?</td>\n",
       "      <td>ham</td>\n",
       "      <td>13.2</td>\n",
       "    </tr>\n",
       "    <tr>\n",
       "      <th>15</th>\n",
       "      <td>Your mother was in a car accident. She require...</td>\n",
       "      <td>?</td>\n",
       "      <td>ham</td>\n",
       "      <td>1.8</td>\n",
       "    </tr>\n",
       "    <tr>\n",
       "      <th>16</th>\n",
       "      <td>We noticed some unusual activity on your bank ...</td>\n",
       "      <td>?</td>\n",
       "      <td>spam</td>\n",
       "      <td>51.3</td>\n",
       "    </tr>\n",
       "    <tr>\n",
       "      <th>17</th>\n",
       "      <td>Your Amazon account has been suspended. Please...</td>\n",
       "      <td>?</td>\n",
       "      <td>ham</td>\n",
       "      <td>44.7</td>\n",
       "    </tr>\n",
       "    <tr>\n",
       "      <th>18</th>\n",
       "      <td>Congratulations, you have been gifted 0.5 BTC....</td>\n",
       "      <td>?</td>\n",
       "      <td>spam</td>\n",
       "      <td>82.0</td>\n",
       "    </tr>\n",
       "    <tr>\n",
       "      <th>19</th>\n",
       "      <td>You have won a Bitcoin contest! Click here to ...</td>\n",
       "      <td>?</td>\n",
       "      <td>spam</td>\n",
       "      <td>91.0</td>\n",
       "    </tr>\n",
       "  </tbody>\n",
       "</table>\n",
       "</div>"
      ],
      "text/plain": [
       "                                                 text type prediction  \\\n",
       "0   he IRS is trying to reach you regarding a tax ...    ?        ham   \n",
       "1   Hurry â your IRS tax refund is ready to be a...    ?       spam   \n",
       "2   You have an overdue tax refund of $1,000 waiti...    ?       spam   \n",
       "3   Our records indicate that you have overpaid fo...    ?       spam   \n",
       "4   We have a package for you. Click this link to ...    ?       spam   \n",
       "5   Myke, we have recently discovered an awaiting ...    ?       spam   \n",
       "6   Your new billing statement for April is now av...    ?       spam   \n",
       "7   Greetings Clark, your AT&T billing invoice is ...    ?        ham   \n",
       "8   Congratulations! Youâve won a free iPhone 12...    ?       spam   \n",
       "9   You have been chosen to receive a one-time $50...    ?       spam   \n",
       "10  Sara, did you recently apply for a loan? Pleas...    ?       spam   \n",
       "11  Your Wells Fargo account has been temporarily ...    ?        ham   \n",
       "12  Your Apple ID has been identified as a possibl...    ?        ham   \n",
       "13  Confirm your identity with Apple by clicking t...    ?       spam   \n",
       "14  This is an emergency. Your brother needs help....    ?        ham   \n",
       "15  Your mother was in a car accident. She require...    ?        ham   \n",
       "16  We noticed some unusual activity on your bank ...    ?       spam   \n",
       "17  Your Amazon account has been suspended. Please...    ?        ham   \n",
       "18  Congratulations, you have been gifted 0.5 BTC....    ?       spam   \n",
       "19  You have won a Bitcoin contest! Click here to ...    ?       spam   \n",
       "\n",
       "    probabilite_spam  \n",
       "0               18.3  \n",
       "1               85.5  \n",
       "2               62.7  \n",
       "3               71.3  \n",
       "4               88.0  \n",
       "5               91.1  \n",
       "6               73.1  \n",
       "7               26.7  \n",
       "8               99.8  \n",
       "9               98.8  \n",
       "10              66.2  \n",
       "11              36.6  \n",
       "12              37.7  \n",
       "13              61.4  \n",
       "14              13.2  \n",
       "15               1.8  \n",
       "16              51.3  \n",
       "17              44.7  \n",
       "18              82.0  \n",
       "19              91.0  "
      ]
     },
     "execution_count": 6,
     "metadata": {},
     "output_type": "execute_result"
    }
   ],
   "source": [
    "reviews2"
   ]
  },
  {
   "cell_type": "code",
   "execution_count": null,
   "metadata": {},
   "outputs": [],
   "source": [
    "# #Dataset for Data Quality and Integrity\n",
    "# reviews_data = datasets.fetch_openml(name='Womens-E-Commerce-Clothing-Reviews', version=2, as_frame='auto')\n",
    "# reviews = reviews_data.frame"
   ]
  },
  {
   "cell_type": "code",
   "execution_count": null,
   "metadata": {},
   "outputs": [],
   "source": [
    "reviews['prediction'] = reviews['type']"
   ]
  },
  {
   "cell_type": "code",
   "execution_count": null,
   "metadata": {},
   "outputs": [],
   "source": [
    "reviews_ref = reviews.sample(n=2000, replace=True, ignore_index=True, random_state=42) #.dropna()\n",
    "reviews_cur = reviews.sample(n=2000, replace=True, ignore_index=True, random_state=81) #.dropna()"
   ]
  },
  {
   "cell_type": "code",
   "execution_count": null,
   "metadata": {},
   "outputs": [],
   "source": [
    "reviews.head()"
   ]
  },
  {
   "cell_type": "code",
   "execution_count": null,
   "metadata": {},
   "outputs": [],
   "source": [
    "column_mapping = ColumnMapping(\n",
    "    target='type',\n",
    "    text_features=['text']\n",
    ")"
   ]
  },
  {
   "cell_type": "code",
   "execution_count": null,
   "metadata": {},
   "outputs": [],
   "source": [
    "data_drift_report = Report(metrics=[\n",
    "    DataDriftPreset(num_stattest='ks', cat_stattest='psi', num_stattest_threshold=0.2, cat_stattest_threshold=0.2),\n",
    "])\n",
    "\n",
    "data_drift_report.run(reference_data=reviews_ref, current_data=reviews_cur, column_mapping=column_mapping)\n",
    "data_drift_report.show(mode='inline')\n",
    "# data_drift_report"
   ]
  },
  {
   "cell_type": "code",
   "execution_count": null,
   "metadata": {},
   "outputs": [],
   "source": [
    "data_drift_report.json()\n"
   ]
  },
  {
   "cell_type": "code",
   "execution_count": null,
   "metadata": {},
   "outputs": [],
   "source": [
    "data_quality_report = Report(metrics=[\n",
    "    DataQualityPreset()\n",
    "])\n",
    "\n",
    "data_quality_report.run(reference_data=reviews_ref, current_data=reviews_cur, column_mapping=column_mapping)\n",
    "data_quality_report.show(mode='inline')"
   ]
  },
  {
   "cell_type": "code",
   "execution_count": null,
   "metadata": {},
   "outputs": [],
   "source": [
    "data_quality_report.as_dict()\n"
   ]
  },
  {
   "cell_type": "code",
   "execution_count": null,
   "metadata": {},
   "outputs": [],
   "source": [
    "data_quality_report.json()\n"
   ]
  },
  {
   "cell_type": "code",
   "execution_count": null,
   "metadata": {},
   "outputs": [],
   "source": [
    "target_drift_report = Report(metrics=[\n",
    "    TargetDriftPreset()\n",
    "])\n",
    "\n",
    "target_drift_report.run(reference_data=reviews_ref, current_data=reviews_cur, column_mapping=column_mapping)\n",
    "target_drift_report.show(mode='inline')"
   ]
  },
  {
   "cell_type": "code",
   "execution_count": null,
   "metadata": {},
   "outputs": [],
   "source": [
    "target_drift_report.json()\n"
   ]
  },
  {
   "cell_type": "code",
   "execution_count": null,
   "metadata": {},
   "outputs": [],
   "source": [
    "regression_report = Report(metrics=[\n",
    "    RegressionPreset()\n",
    "])\n",
    "\n",
    "regression_report.run(reference_data=reviews_ref, current_data=reviews_cur, column_mapping=ColumnMapping(\n",
    "    target='Rating',\n",
    "    prediction='prediction',\n",
    "    numerical_features=['Age', 'Positive_Feedback_Count'],\n",
    "    categorical_features=['Division_Name', 'Department_Name', 'Class_Name'],\n",
    "    text_features=['Review_Text', 'Title'],\n",
    "    task='regression'\n",
    "  )\n",
    ")\n",
    "regression_report.show(mode='inline')"
   ]
  },
  {
   "cell_type": "code",
   "execution_count": null,
   "metadata": {},
   "outputs": [],
   "source": [
    "regression_report.json()\n",
    "\n"
   ]
  },
  {
   "cell_type": "code",
   "execution_count": null,
   "metadata": {},
   "outputs": [],
   "source": [
    "classification_report = Report(metrics=[\n",
    "    ClassificationPreset()\n",
    "])\n",
    "classification_report.run(reference_data=reviews.sample(n=5000, replace=False), current_data=reviews.sample(n=5000, replace=False), column_mapping=ColumnMapping(\n",
    "    target='Rating',\n",
    "    prediction='prediction',\n",
    "    numerical_features=['Age', 'Positive_Feedback_Count'],\n",
    "    categorical_features=['Division_Name', 'Department_Name', 'Class_Name'],\n",
    "    text_features=['Review_Text', 'Title'],\n",
    "    task='classification'\n",
    "  )\n",
    ")\n",
    "\n",
    "classification_report.show(mode='inline')"
   ]
  },
  {
   "cell_type": "code",
   "execution_count": null,
   "metadata": {},
   "outputs": [],
   "source": [
    "text_overview_report = Report(metrics=[\n",
    "    TextOverviewPreset(column_name=\"text\")\n",
    "])\n",
    "\n",
    "text_overview_report.run(reference_data=reviews_ref, current_data=reviews_cur, column_mapping=column_mapping)\n",
    "text_overview_report.show(mode='inline')"
   ]
  },
  {
   "cell_type": "code",
   "execution_count": null,
   "metadata": {},
   "outputs": [],
   "source": [
    "dataset_metrics_with_text_report = Report(metrics=[\n",
    "    DatasetSummaryMetric(), \n",
    "    DatasetMissingValuesMetric(),\n",
    "    DatasetCorrelationsMetric(), \n",
    "    ConflictTargetMetric(),\n",
    "    ConflictPredictionMetric(),\n",
    "    DatasetDriftMetric(),\n",
    "    DataDriftTable(),\n",
    "    TargetByFeaturesTable(columns=['Review_Text', 'Title']),\n",
    "    ClassificationQualityByFeatureTable(), \n",
    "])\n",
    "\n",
    "dataset_metrics_with_text_report.run(reference_data=reviews_ref, current_data=reviews_cur, column_mapping=column_mapping)\n",
    "dataset_metrics_with_text_report.show(mode='inline')"
   ]
  },
  {
   "cell_type": "code",
   "execution_count": null,
   "metadata": {},
   "outputs": [],
   "source": [
    "column_metrics_with_text_report = Report(metrics=[\n",
    "    ColumnSummaryMetric(column_name=\"Review_Text\"),\n",
    "    ColumnMissingValuesMetric(column_name=\"Review_Text\"), \n",
    "    ColumnRegExpMetric(column_name=\"Review_Text\", reg_exp=r'.*love*.'),\n",
    "    ColumnDriftMetric(column_name=\"Review_Text\"),\n",
    "    ColumnSummaryMetric(column_name=\"Title\"),\n",
    "    ColumnMissingValuesMetric(column_name=\"Title\"), \n",
    "    ColumnRegExpMetric(column_name=\"Title\", reg_exp=r\".*love*.\"),\n",
    "    ColumnDriftMetric(column_name=\"Title\"),\n",
    "])\n",
    "\n",
    "column_metrics_with_text_report.run(reference_data=reviews_ref, current_data=reviews_cur, column_mapping=column_mapping)\n",
    "column_metrics_with_text_report.show(mode='inline')"
   ]
  },
  {
   "cell_type": "code",
   "execution_count": null,
   "metadata": {},
   "outputs": [],
   "source": [
    "text_specific_metrics_report = Report(metrics=[\n",
    "    TextDescriptorsDriftMetric(column_name=\"Review_Text\"),\n",
    "    TextDescriptorsDistribution(column_name=\"Review_Text\"),\n",
    "    TextDescriptorsCorrelationMetric(column_name=\"Review_Text\"),\n",
    "])\n",
    "\n",
    "text_specific_metrics_report.run(reference_data=reviews_ref, current_data=reviews_cur, column_mapping=column_mapping)\n",
    "text_specific_metrics_report.show(mode='inline')"
   ]
  },
  {
   "cell_type": "code",
   "execution_count": null,
   "metadata": {},
   "outputs": [],
   "source": [
    "no_target_performance_suite = TestSuite(tests=[\n",
    "    NoTargetPerformanceTestPreset()\n",
    "])\n",
    "\n",
    "no_target_performance_suite.run(reference_data=reviews_ref, current_data=reviews_cur, column_mapping=column_mapping)\n",
    "no_target_performance_suite.show(mode='inline')"
   ]
  },
  {
   "cell_type": "code",
   "execution_count": null,
   "metadata": {},
   "outputs": [],
   "source": [
    "data_stability_suite = TestSuite(tests=[\n",
    "    DataStabilityTestPreset()\n",
    "])\n",
    "\n",
    "data_stability_suite.run(reference_data=reviews_ref, current_data=reviews_cur, column_mapping=column_mapping)\n",
    "data_stability_suite.show(mode='inline')"
   ]
  },
  {
   "cell_type": "code",
   "execution_count": null,
   "metadata": {},
   "outputs": [],
   "source": [
    "data_quality_suite = TestSuite(tests=[\n",
    "    DataQualityTestPreset()\n",
    "])\n",
    "\n",
    "data_quality_suite.run(reference_data=reviews_ref, current_data=reviews_cur, column_mapping=column_mapping)\n",
    "data_quality_suite.show(mode='inline')"
   ]
  },
  {
   "cell_type": "code",
   "execution_count": null,
   "metadata": {},
   "outputs": [],
   "source": []
  }
 ],
 "metadata": {
  "kernelspec": {
   "display_name": "Python 3 (ipykernel)",
   "language": "python",
   "name": "python3"
  },
  "language_info": {
   "codemirror_mode": {
    "name": "ipython",
    "version": 3
   },
   "file_extension": ".py",
   "mimetype": "text/x-python",
   "name": "python",
   "nbconvert_exporter": "python",
   "pygments_lexer": "ipython3",
   "version": "3.10.11"
  }
 },
 "nbformat": 4,
 "nbformat_minor": 2
}
